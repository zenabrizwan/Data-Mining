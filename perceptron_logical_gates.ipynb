{
  "nbformat": 4,
  "nbformat_minor": 0,
  "metadata": {
    "colab": {
      "provenance": []
    },
    "kernelspec": {
      "name": "python3",
      "display_name": "Python 3"
    },
    "language_info": {
      "name": "python"
    }
  },
  "cells": [
    {
      "cell_type": "code",
      "execution_count": null,
      "metadata": {
        "id": "7aIWhrgDanBj"
      },
      "outputs": [],
      "source": [
        "import numpy as np\n",
        "\n",
        "class Perceptron:\n",
        "\n",
        "  def __init__(self, learning_rate=0.1):\n",
        "    self.learning_rate = learning_rate\n",
        "    self.weights = None\n",
        "    self.bias = None\n",
        "\n",
        "  def step(self, x):\n",
        "\n",
        "    return np.where(x >= 0, 1, 0)\n",
        "\n",
        "  def predict(self, X):\n",
        "\n",
        "    activation = np.dot(X, self.weights) + self.bias\n",
        "    return self.step(activation)\n",
        "\n",
        "  def fit(self, X, y):\n",
        "\n",
        "    self.weights = np.random.rand(X.shape[1])\n",
        "    self.bias = 0\n",
        "    epochs = 10\n",
        "\n",
        "    for _ in range(epochs):\n",
        "      for i, x in enumerate(X):\n",
        "        predicted = self.predict(x.reshape(1, -1))\n",
        "        error = y[i] - predicted\n",
        "        self.weights += self.learning_rate * error * x\n",
        "        self.bias += self.learning_rate * error\n"
      ]
    },
    {
      "cell_type": "code",
      "source": [
        "or_gate = Perceptron()\n",
        "X_or = np.array([[0, 0], [0, 1], [1, 0], [1, 1]])\n",
        "y_or = np.array([0, 1, 1, 1])\n",
        "or_gate.fit(X_or, y_or)\n"
      ],
      "metadata": {
        "id": "_X74QIKJasvG"
      },
      "execution_count": null,
      "outputs": []
    },
    {
      "cell_type": "code",
      "source": [
        "print(\"OR Gate Predictions:\")\n",
        "print(X_or)\n",
        "print(or_gate.predict(X_or))\n"
      ],
      "metadata": {
        "colab": {
          "base_uri": "https://localhost:8080/"
        },
        "id": "ZOlcs0w6ayas",
        "outputId": "56255170-541d-456c-e135-e9585d498a45"
      },
      "execution_count": null,
      "outputs": [
        {
          "output_type": "stream",
          "name": "stdout",
          "text": [
            "OR Gate Predictions:\n",
            "[[0 0]\n",
            " [0 1]\n",
            " [1 0]\n",
            " [1 1]]\n",
            "[0 1 1 1]\n"
          ]
        }
      ]
    },
    {
      "cell_type": "code",
      "source": [
        "and_gate = Perceptron()\n",
        "X_and = np.array([[0, 0], [0, 1], [1, 0], [1, 1]])\n",
        "y_and = np.array([0, 0, 0, 1])\n",
        "and_gate.fit(X_and, y_and)\n"
      ],
      "metadata": {
        "id": "fFBlXdwVa1DE"
      },
      "execution_count": null,
      "outputs": []
    },
    {
      "cell_type": "code",
      "source": [
        "print(\"\\nAND Gate Predictions:\")\n",
        "print(X_and)\n",
        "print(and_gate.predict(X_and))\n"
      ],
      "metadata": {
        "colab": {
          "base_uri": "https://localhost:8080/"
        },
        "id": "nn7Tn-q9a5tb",
        "outputId": "b922635d-bca3-4da4-a7b7-6eb8baaa250c"
      },
      "execution_count": null,
      "outputs": [
        {
          "output_type": "stream",
          "name": "stdout",
          "text": [
            "\n",
            "AND Gate Predictions:\n",
            "[[0 0]\n",
            " [0 1]\n",
            " [1 0]\n",
            " [1 1]]\n",
            "[0 0 0 1]\n"
          ]
        }
      ]
    }
  ]
}