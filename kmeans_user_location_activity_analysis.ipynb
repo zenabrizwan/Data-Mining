{
  "nbformat": 4,
  "nbformat_minor": 0,
  "metadata": {
    "colab": {
      "provenance": []
    },
    "kernelspec": {
      "name": "python3",
      "display_name": "Python 3"
    },
    "language_info": {
      "name": "python"
    }
  },
  "cells": [
    {
      "cell_type": "code",
      "execution_count": null,
      "metadata": {
        "id": "L-yP6PHhz04s"
      },
      "outputs": [],
      "source": [
        "import pandas as pd\n",
        "import numpy as np\n",
        "from sklearn.cluster import KMeans\n",
        "import matplotlib.pyplot as plt\n",
        "\n",
        "\n",
        "data = pd.read_csv('/content/dataset.csv')\n",
        "\n",
        "\n",
        "location_data = data[['log_latitude_range', 'log_longitude_range']]\n",
        "\n",
        "\n",
        "kmeans = KMeans(n_clusters=3)\n",
        "kmeans.fit(location_data)\n",
        "cluster_labels = kmeans.labels_\n",
        "\n",
        "\n",
        "plt.scatter(data['log_latitude_range'], data['log_longitude_range'], c=cluster_labels, cmap='viridis')\n",
        "plt.xlabel('Log Latitude Range')\n",
        "plt.ylabel('Log Longitude Range')\n",
        "plt.title('K-means Clustering of User Locations')\n",
        "plt.colorbar(label='Cluster')\n",
        "plt.show()\n",
        "\n",
        "\n",
        "clustered_data = data.copy()\n",
        "clustered_data['Cluster'] = cluster_labels\n",
        "\n",
        "\n",
        "specified_activities = ['Sitting', 'Lying_down', 'Fix_running', 'Fix_walking', 'OR_standing']\n",
        "clustered_activities = clustered_data[clustered_data['Activity'].isin(specified_activities)]\n",
        "activity_counts = clustered_activities.groupby('Cluster')['Activity'].value_counts(normalize=True).unstack().fillna(0)\n",
        "\n",
        "fig, axes = plt.subplots(1, 3, figsize=(15, 5))\n",
        "\n",
        "for i, (cluster_label, activity_percentages) in enumerate(activity_counts.iterrows()):\n",
        "    axes[i].pie(activity_percentages, labels=activity_percentages.index, autopct='%1.1f%%', startangle=140)\n",
        "    axes[i].set_title(f'Cluster {cluster_label}')\n",
        "\n",
        "plt.tight_layout()\n",
        "plt.show()\n"
      ]
    }
  ]
}